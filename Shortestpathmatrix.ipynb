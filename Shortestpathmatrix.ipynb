{
  "nbformat": 4,
  "nbformat_minor": 0,
  "metadata": {
    "colab": {
      "provenance": [],
      "authorship_tag": "ABX9TyOel+y5HSF5qSmFLW78jekY",
      "include_colab_link": true
    },
    "kernelspec": {
      "name": "python3",
      "display_name": "Python 3"
    },
    "language_info": {
      "name": "python"
    }
  },
  "cells": [
    {
      "cell_type": "markdown",
      "metadata": {
        "id": "view-in-github",
        "colab_type": "text"
      },
      "source": [
        "<a href=\"https://colab.research.google.com/github/S-Chaudhuri/Foundation-of-Artificial-Intelligence/blob/main/Shortestpathmatrix.ipynb\" target=\"_parent\"><img src=\"https://colab.research.google.com/assets/colab-badge.svg\" alt=\"Open In Colab\"/></a>"
      ]
    },
    {
      "cell_type": "code",
      "source": [
        "import sys\n",
        "\n",
        "def matrix():  \n",
        "    m, n = map(int, input().split())\n",
        "    mat = [[0 for y in range(n)] for x in range(m)] \n",
        "    for i in range(m):\n",
        "        for j in range(n):\n",
        "            mat[i][j] = int(input())\n",
        "    return mat\n",
        "\n",
        "def sorting(mat):\n",
        "    m, n = len(mat), len(mat[0])\n",
        "    y = []\n",
        "    for i in range(m):\n",
        "        for j in range(n):\n",
        "            y.append(mat[i][j])\n",
        "    y.sort()\n",
        "    l = 0\n",
        "    for i in range(m):\n",
        "        for j in range(n):\n",
        "            mat[i][j] = y[l]\n",
        "            l += 1\n",
        "    return mat\n",
        "\n",
        "def mincost(cost, m, n):\n",
        "    if m == 1 and n == 1:\n",
        "        return cost[0][0]\n",
        "    elif m < 1 or n < 1:\n",
        "        return sys.maxsize\n",
        "    else:\n",
        "        return cost[m-1][n-1] + min(mincost(cost, m-1, n-1), mincost(cost, m, n-1), mincost(cost, m-1, n))\n",
        "\n",
        "if __name__ == '__main__':\n",
        "    m = matrix()\n",
        "    print(sorting(m))\n",
        "    o, p = map(int, input().split())\n",
        "    print(mincost(m, o, p))\n"
      ],
      "metadata": {
        "colab": {
          "base_uri": "https://localhost:8080/"
        },
        "id": "C-6_-zmnb1Ma",
        "outputId": "39571e51-6cd7-479e-c8d0-9638c51b78bd"
      },
      "execution_count": 6,
      "outputs": [
        {
          "output_type": "stream",
          "name": "stdout",
          "text": [
            "2 2\n",
            "2\n",
            "3\n",
            "6\n",
            "1\n",
            "[[1, 2], [3, 6]]\n",
            "2 2\n",
            "7\n"
          ]
        }
      ]
    }
  ]
}